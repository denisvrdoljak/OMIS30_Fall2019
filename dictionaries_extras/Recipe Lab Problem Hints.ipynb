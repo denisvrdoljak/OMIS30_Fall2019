{
 "cells": [
  {
   "cell_type": "markdown",
   "metadata": {},
   "source": [
    "# Dictionary Problems on Lab"
   ]
  },
  {
   "cell_type": "markdown",
   "metadata": {},
   "source": [
    "### Recipes\n",
    "* spaghetti: sauce, pasta, meat\n",
    "* pizza: sauce, cheese, dough\n",
    "* lazagna: sauce, pasta, cheese"
   ]
  },
  {
   "cell_type": "markdown",
   "metadata": {},
   "source": [
    "### Ingredients Lookup\n",
    "* sauce: spaghetti, pizza, lasagna\n",
    "* dough: pizza\n",
    "* meat: spaghetti, lazagna\n",
    "* pasta: lazagna, spaghetti\n",
    "* cheese: pizza, lasagna"
   ]
  },
  {
   "cell_type": "code",
   "execution_count": 15,
   "metadata": {},
   "outputs": [],
   "source": [
    "myrecipes = {\n",
    "    'spaghetti':['sauce','pasta','meat'],\n",
    "    'pizza':['sauce','dough','cheese']\n",
    "    # etc\n",
    "    \n",
    "}\n",
    "\n",
    "ingredients_loopup = {\n",
    "    \n",
    "   'sauce':['spaghetti','pizza','lasgna'],\n",
    "    'dough':['pizza'],\n",
    "    'cheese':['pizza','lasagna']\n",
    "    #etc\n",
    "}"
   ]
  },
  {
   "cell_type": "code",
   "execution_count": 6,
   "metadata": {},
   "outputs": [
    {
     "name": "stdout",
     "output_type": "stream",
     "text": [
      "['spaghetti', 'pizza', 'lasgna']\n",
      "['pizza']\n"
     ]
    }
   ],
   "source": [
    "for ingredient in ['sauce','dough']:\n",
    "    print(ingredients_loopup[ingredient])"
   ]
  },
  {
   "cell_type": "code",
   "execution_count": 8,
   "metadata": {},
   "outputs": [],
   "source": [
    "function_lookup  = {\n",
    "    'p':print,\n",
    "    'i':input\n",
    "    \n",
    "}"
   ]
  },
  {
   "cell_type": "code",
   "execution_count": 13,
   "metadata": {},
   "outputs": [
    {
     "name": "stdout",
     "output_type": "stream",
     "text": [
      "['spaghetti', 'pizza', 'lasgna']\n",
      "['pizza']\n",
      "['pizza', 'lasagna']\n"
     ]
    }
   ],
   "source": [
    "for ingredient in ['sauce','dough','cheese']:\n",
    "    print(ingredients_loopup[ingredient])"
   ]
  },
  {
   "cell_type": "code",
   "execution_count": 16,
   "metadata": {},
   "outputs": [
    {
     "data": {
      "text/plain": [
       "['sauce', 'dough', 'cheese']"
      ]
     },
     "execution_count": 16,
     "metadata": {},
     "output_type": "execute_result"
    }
   ],
   "source": [
    "myrecipes['pizza']"
   ]
  },
  {
   "cell_type": "markdown",
   "metadata": {},
   "source": [
    "### Which of these statements will cause an error:\n",
    "* print(0+'1')\n",
    "* input('enter your name')\n",
    "* 2+3."
   ]
  },
  {
   "cell_type": "code",
   "execution_count": null,
   "metadata": {},
   "outputs": [],
   "source": []
  }
 ],
 "metadata": {
  "kernelspec": {
   "display_name": "Python 3",
   "language": "python",
   "name": "python3"
  },
  "language_info": {
   "codemirror_mode": {
    "name": "ipython",
    "version": 3
   },
   "file_extension": ".py",
   "mimetype": "text/x-python",
   "name": "python",
   "nbconvert_exporter": "python",
   "pygments_lexer": "ipython3",
   "version": "3.7.1"
  }
 },
 "nbformat": 4,
 "nbformat_minor": 2
}
