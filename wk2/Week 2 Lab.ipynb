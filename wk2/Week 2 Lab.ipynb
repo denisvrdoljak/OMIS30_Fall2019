{
 "cells": [
  {
   "cell_type": "markdown",
   "metadata": {},
   "source": [
    "# Week 2 Lab"
   ]
  },
  {
   "cell_type": "markdown",
   "metadata": {},
   "source": [
    "## The Lab"
   ]
  },
  {
   "cell_type": "markdown",
   "metadata": {},
   "source": [
    "Csv files are pretty easy to import into Python. There are several libraries and modules that will handle this for you. But, let's take a look at how to make a csv parser from scratch.\n",
    "\n",
    "Csv (comma separated value) files use commas to separate values (columns) on each line. Every line then ends in a new line character, which looks like this in Python: \"\\n\"\n",
    "\n",
    "Here is a string that represents/simulates an uploaded raw csv file."
   ]
  },
  {
   "cell_type": "markdown",
   "metadata": {},
   "source": [
    "Run the below cell to \"load\" the 'data' variable:"
   ]
  },
  {
   "cell_type": "code",
   "execution_count": 2,
   "metadata": {},
   "outputs": [],
   "source": [
    "# from data.gov\n",
    "# https://catalog.data.gov/dataset/demographic-statistics-by-zip-code-acfc9\n",
    "# https://data.cityofnewyork.us/api/views/kku6-nxdu/rows.csv?accessType=DOWNLOAD\n",
    "\n",
    "data = \"\"\"\n",
    "Zip Code,Total Population,Median Age,Total Males,Total Females,Total Households,Average Household Size\n",
    "90001,57110,26.6,28468,28642,12971,4.4\n",
    "90002,51223,25.5,24876,26347,11731,4.36\n",
    "90003,66266,26.3,32631,33635,15642,4.22\n",
    "\"\"\".strip()"
   ]
  },
  {
   "cell_type": "markdown",
   "metadata": {},
   "source": [
    "Check that it loaded by running the following:"
   ]
  },
  {
   "cell_type": "code",
   "execution_count": 3,
   "metadata": {},
   "outputs": [
    {
     "name": "stdout",
     "output_type": "stream",
     "text": [
      "Zip Code,Total Population,Median Age,Total Males,Total Females,Total Households,Average Household Size\n",
      "90001,57110,26.6,28468,28642,12971,4.4\n",
      "90002,51223,25.5,24876,26347,11731,4.36\n",
      "90003,66266,26.3,32631,33635,15642,4.22\n"
     ]
    }
   ],
   "source": [
    "print(data)"
   ]
  },
  {
   "cell_type": "markdown",
   "metadata": {},
   "source": [
    "or..."
   ]
  },
  {
   "cell_type": "code",
   "execution_count": 4,
   "metadata": {},
   "outputs": [
    {
     "data": {
      "text/plain": [
       "'Zip Code,Total Population,Median Age,Total Males,Total Females,Total Households,Average Household Size\\n90001,57110,26.6,28468,28642,12971,4.4\\n90002,51223,25.5,24876,26347,11731,4.36\\n90003,66266,26.3,32631,33635,15642,4.22'"
      ]
     },
     "execution_count": 4,
     "metadata": {},
     "output_type": "execute_result"
    }
   ],
   "source": [
    "data"
   ]
  },
  {
   "cell_type": "markdown",
   "metadata": {},
   "source": [
    "Note that stating data (instead of printing data) shows the newline characters, while the print() function just prints newlines."
   ]
  },
  {
   "cell_type": "markdown",
   "metadata": {},
   "source": [
    "Using the 'data' variable, use a combination of the string.split() method/function, indexing, and splicing to create the following variables. (Look at the class notes notebook, in this folder. I added a couple of extra lines on how .split() work.)"
   ]
  },
  {
   "cell_type": "markdown",
   "metadata": {},
   "source": [
    "## Question 1"
   ]
  },
  {
   "cell_type": "code",
   "execution_count": 8,
   "metadata": {},
   "outputs": [],
   "source": [
    "# Create a list of column names\n",
    "# for example: ['col1_name','col2_name','col3_name']\n",
    "\n"
   ]
  },
  {
   "cell_type": "markdown",
   "metadata": {},
   "source": [
    "## Question 2"
   ]
  },
  {
   "cell_type": "code",
   "execution_count": 9,
   "metadata": {},
   "outputs": [],
   "source": [
    "# Create a list of lists that represents this csv data\n",
    "# (think about how to separate the lines, which are separated by newline characters ('\\n'), \n",
    "# and then how to split up the individual cells on each line, which are separated by commans (',')\n"
   ]
  },
  {
   "cell_type": "markdown",
   "metadata": {},
   "source": [
    "## Question 3"
   ]
  },
  {
   "cell_type": "code",
   "execution_count": 10,
   "metadata": {},
   "outputs": [],
   "source": [
    "#Let's say we want the raw data, and don't want the column names in here. \n",
    "# (This will come up again when we introduce the numpy and pandas libraries)\n",
    "# Create a list of lists that contains just the data, skipping the column names\n",
    "\n"
   ]
  },
  {
   "cell_type": "markdown",
   "metadata": {},
   "source": [
    "# What to submit\n",
    "Submit this notebook in Camino with your solutions. Don't forget to put your name in MarkDown at the top!"
   ]
  }
 ],
 "metadata": {
  "kernelspec": {
   "display_name": "Python 3",
   "language": "python",
   "name": "python3"
  },
  "language_info": {
   "codemirror_mode": {
    "name": "ipython",
    "version": 3
   },
   "file_extension": ".py",
   "mimetype": "text/x-python",
   "name": "python",
   "nbconvert_exporter": "python",
   "pygments_lexer": "ipython3",
   "version": "3.7.1"
  }
 },
 "nbformat": 4,
 "nbformat_minor": 2
}
