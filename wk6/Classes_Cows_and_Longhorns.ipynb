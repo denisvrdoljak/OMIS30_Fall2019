{
 "cells": [
  {
   "cell_type": "markdown",
   "metadata": {},
   "source": [
    "# Classes\n",
    "### with Cows and Longhorns"
   ]
  },
  {
   "cell_type": "markdown",
   "metadata": {},
   "source": [
    "We can define a class with the 'class' statement."
   ]
  },
  {
   "cell_type": "code",
   "execution_count": 1,
   "metadata": {},
   "outputs": [],
   "source": [
    "class Cow:\n",
    "    pass"
   ]
  },
  {
   "cell_type": "markdown",
   "metadata": {},
   "source": [
    "This is the most basic class we can make. It has no attributes and no methods. To use it, we create a new instance of the object, just like we can create a new string or list:"
   ]
  },
  {
   "cell_type": "code",
   "execution_count": 2,
   "metadata": {},
   "outputs": [
    {
     "data": {
      "text/plain": [
       "__main__.Cow"
      ]
     },
     "execution_count": 2,
     "metadata": {},
     "output_type": "execute_result"
    }
   ],
   "source": [
    "Betsy = Cow()\n",
    "type(Betsy)"
   ]
  },
  {
   "cell_type": "markdown",
   "metadata": {},
   "source": [
    "Objects can have attributes. Let's give our cow a species."
   ]
  },
  {
   "cell_type": "code",
   "execution_count": 5,
   "metadata": {},
   "outputs": [],
   "source": [
    "class Cow:\n",
    "    species = \"moo cow\""
   ]
  },
  {
   "cell_type": "markdown",
   "metadata": {},
   "source": [
    "We can access attributes in a class using dot notation:"
   ]
  },
  {
   "cell_type": "code",
   "execution_count": 7,
   "metadata": {},
   "outputs": [
    {
     "data": {
      "text/plain": [
       "'moo cow'"
      ]
     },
     "execution_count": 7,
     "metadata": {},
     "output_type": "execute_result"
    }
   ],
   "source": [
    "Betsy = Cow()\n",
    "Betsy.species"
   ]
  },
  {
   "cell_type": "markdown",
   "metadata": {},
   "source": [
    "We can also give our class methods. For example, we might want to get the species of the cow through a method rather than accessing the attribute directly. \n",
    "\n",
    "(Note: All methods take self as an argument. If you don't pass in self, you can't access any other parts of the Class.)"
   ]
  },
  {
   "cell_type": "code",
   "execution_count": 8,
   "metadata": {},
   "outputs": [
    {
     "data": {
      "text/plain": [
       "'moo cow'"
      ]
     },
     "execution_count": 8,
     "metadata": {},
     "output_type": "execute_result"
    }
   ],
   "source": [
    "class Cow:\n",
    "    species = \"moo cow\"\n",
    "    \n",
    "    def get_species(self):\n",
    "        return self.species\n",
    "\n",
    "# =====================================================================\n",
    "\n",
    "Betsy = Cow()\n",
    "Betsy.get_species()"
   ]
  },
  {
   "cell_type": "markdown",
   "metadata": {},
   "source": [
    "There is a special method called \\_\\_init\\_\\_ that is called every time we create a new instance of the object. If we want to always create a cow with a name, we can assign that in the in the \\_\\_init\\_\\_ method (don't forget the double underscores before and after init):"
   ]
  },
  {
   "cell_type": "code",
   "execution_count": 9,
   "metadata": {},
   "outputs": [
    {
     "name": "stdout",
     "output_type": "stream",
     "text": [
      "Betsy is a moo cow\n"
     ]
    }
   ],
   "source": [
    "class Cow:\n",
    "    species = \"moo cow\"\n",
    "    \n",
    "    def __init__(self,name):\n",
    "        self.name = name\n",
    "    \n",
    "    def get_species(self):\n",
    "        return self.species\n",
    "\n",
    "# =====================================================================\n",
    "\n",
    "Betsy = Cow(\"Betsy\")\n",
    "#note that the name argument is now required when creating a Cow()\n",
    "print(\"{} is a {}\".format(Betsy.name, Betsy.get_species()))"
   ]
  },
  {
   "cell_type": "markdown",
   "metadata": {},
   "source": [
    "Let's add some more methods and attributes"
   ]
  },
  {
   "cell_type": "code",
   "execution_count": 12,
   "metadata": {},
   "outputs": [
    {
     "name": "stdout",
     "output_type": "stream",
     "text": [
      "Betsy is a moo cow\n",
      "Betsy says, moo! \n",
      "Betsy's size is: 1\n",
      "Betsy is eating. And growing.\n",
      "Betsy is eating. And growing.\n",
      "Betsy is eating. And growing.\n",
      "Betsy's size is: 4\n",
      "Betsy says, moo! moo! moo! moo! \n"
     ]
    }
   ],
   "source": [
    "class Cow:\n",
    "    species = \"moo cow\"\n",
    "    \n",
    "    def __init__(self,name):\n",
    "        self.name = name\n",
    "        self.size = 1\n",
    "        # a new Cow() will start with size = 1\n",
    "    \n",
    "    def get_species(self):\n",
    "        return self.species\n",
    "    \n",
    "    def eat(self):\n",
    "        self.size += 1\n",
    "        print(\"{} is eating. And growing.\".format(self.name))\n",
    "    \n",
    "    def moo(self):\n",
    "        print(\"{} says, \".format(self.name)+\"moo! \"*self.size)\n",
    "\n",
    "# =====================================================================\n",
    "\n",
    "Betsy = Cow(\"Betsy\")\n",
    "print(\"{} is a {}\".format(Betsy.name, Betsy.get_species()))\n",
    "Betsy.moo()\n",
    "print(\"{}'s size is: {}\".format(Betsy.name,Betsy.size))\n",
    "Betsy.eat()\n",
    "Betsy.eat()\n",
    "Betsy.eat()\n",
    "print(\"{}'s size is: {}\".format(Betsy.name,Betsy.size))\n",
    "Betsy.moo()"
   ]
  },
  {
   "cell_type": "markdown",
   "metadata": {},
   "source": [
    "Maybe we don't want to let the user manually access the attributes. We can hide self.size and self.name by adding double underscores: \n",
    "* self.\\_\\_name\n",
    "* self.\\_\\_size"
   ]
  },
  {
   "cell_type": "code",
   "execution_count": 13,
   "metadata": {},
   "outputs": [
    {
     "ename": "AttributeError",
     "evalue": "'Cow' object has no attribute 'name'",
     "output_type": "error",
     "traceback": [
      "\u001b[0;31m---------------------------------------------------------------------------\u001b[0m",
      "\u001b[0;31mAttributeError\u001b[0m                            Traceback (most recent call last)",
      "\u001b[0;32m<ipython-input-13-2cf2cb9014f6>\u001b[0m in \u001b[0;36m<module>\u001b[0;34m()\u001b[0m\n\u001b[1;32m     24\u001b[0m \u001b[0;34m\u001b[0m\u001b[0m\n\u001b[1;32m     25\u001b[0m \u001b[0mBetsy\u001b[0m \u001b[0;34m=\u001b[0m \u001b[0mCow\u001b[0m\u001b[0;34m(\u001b[0m\u001b[0;34m\"Betsy\"\u001b[0m\u001b[0;34m)\u001b[0m\u001b[0;34m\u001b[0m\u001b[0m\n\u001b[0;32m---> 26\u001b[0;31m \u001b[0mprint\u001b[0m\u001b[0;34m(\u001b[0m\u001b[0;34m\"{} is a {}\"\u001b[0m\u001b[0;34m.\u001b[0m\u001b[0mformat\u001b[0m\u001b[0;34m(\u001b[0m\u001b[0mBetsy\u001b[0m\u001b[0;34m.\u001b[0m\u001b[0mname\u001b[0m\u001b[0;34m,\u001b[0m \u001b[0mBetsy\u001b[0m\u001b[0;34m.\u001b[0m\u001b[0mget_species\u001b[0m\u001b[0;34m(\u001b[0m\u001b[0;34m)\u001b[0m\u001b[0;34m)\u001b[0m\u001b[0;34m)\u001b[0m\u001b[0;34m\u001b[0m\u001b[0m\n\u001b[0m\u001b[1;32m     27\u001b[0m \u001b[0mBetsy\u001b[0m\u001b[0;34m.\u001b[0m\u001b[0mmoo\u001b[0m\u001b[0;34m(\u001b[0m\u001b[0;34m)\u001b[0m\u001b[0;34m\u001b[0m\u001b[0m\n\u001b[1;32m     28\u001b[0m \u001b[0mprint\u001b[0m\u001b[0;34m(\u001b[0m\u001b[0;34m\"{}'s size is: {}\"\u001b[0m\u001b[0;34m.\u001b[0m\u001b[0mformat\u001b[0m\u001b[0;34m(\u001b[0m\u001b[0mBetsy\u001b[0m\u001b[0;34m.\u001b[0m\u001b[0mname\u001b[0m\u001b[0;34m,\u001b[0m\u001b[0mBetsy\u001b[0m\u001b[0;34m.\u001b[0m\u001b[0msize\u001b[0m\u001b[0;34m)\u001b[0m\u001b[0;34m)\u001b[0m\u001b[0;34m\u001b[0m\u001b[0m\n",
      "\u001b[0;31mAttributeError\u001b[0m: 'Cow' object has no attribute 'name'"
     ]
    }
   ],
   "source": [
    "class Cow:\n",
    "    species = \"moo cow\"\n",
    "    \n",
    "    def __init__(self,name):\n",
    "        self.__name = name\n",
    "        self.__size = 1\n",
    "        #a new Cow() will start with size = 1\n",
    "    \n",
    "    def get_species(self):\n",
    "        return self.species\n",
    "    \n",
    "    def get_size(self):\n",
    "        return self.__size\n",
    "    \n",
    "    def eat(self):\n",
    "        self.__size += 1\n",
    "        print(\"{} is eating. And growing.\".format(self.__name))\n",
    "    \n",
    "    def moo(self):\n",
    "        print(\"{} says, \".format(self.__name)+\"moo! \"*self.__size)\n",
    "\n",
    "# =====================================================================\n",
    "\n",
    "\n",
    "Betsy = Cow(\"Betsy\")\n",
    "print(\"{} is a {}\".format(Betsy.name, Betsy.get_species()))\n",
    "Betsy.moo()\n",
    "print(\"{}'s size is: {}\".format(Betsy.name,Betsy.size))\n",
    "Betsy.eat()\n",
    "Betsy.eat()\n",
    "Betsy.eat()\n",
    "print(\"{}'s size is: {}\".format(Betsy.name,Betsy.size))\n",
    "Betsy.moo()"
   ]
  },
  {
   "cell_type": "markdown",
   "metadata": {},
   "source": [
    "Now, we can't access these object attributes directly. This is an example of encapsulation.\n",
    "\n",
    "We'll need to create methods to return the values if we want to access them."
   ]
  },
  {
   "cell_type": "code",
   "execution_count": 15,
   "metadata": {},
   "outputs": [
    {
     "name": "stdout",
     "output_type": "stream",
     "text": [
      "Betsy is a moo cow\n",
      "Betsy says, moo! \n",
      "Betsy's size is: 1\n",
      "Betsy is eating. And growing.\n",
      "Betsy is eating. And growing.\n",
      "Betsy is eating. And growing.\n",
      "Betsy's size is: 4\n",
      "Betsy says, moo! moo! moo! moo! \n"
     ]
    }
   ],
   "source": [
    "class Cow:\n",
    "    species = \"moo cow\"\n",
    "    \n",
    "    def __init__(self,name):\n",
    "        self.__name = name\n",
    "        self.__size = 1\n",
    "        #a new Cow() will start with size = 1\n",
    "    \n",
    "    def get_species(self):\n",
    "        return self.species\n",
    "    \n",
    "    def get_size(self):\n",
    "        return self.__size\n",
    "    \n",
    "    def get_name(self):\n",
    "        return self.__name\n",
    "    \n",
    "    def eat(self):\n",
    "        self.__size += 1\n",
    "        print(\"{} is eating. And growing.\".format(self.__name))\n",
    "    \n",
    "    def moo(self):\n",
    "        print(\"{} says, \".format(self.__name)+\"moo! \"*self.__size)\n",
    "\n",
    "# =====================================================================\n",
    "\n",
    "Betsy = Cow(\"Betsy\")\n",
    "print(\"{} is a {}\".format(Betsy.get_name(), Betsy.get_species()))\n",
    "Betsy.moo()\n",
    "print(\"{}'s size is: {}\".format(Betsy.get_name(),Betsy.get_size()))\n",
    "Betsy.eat()\n",
    "Betsy.eat()\n",
    "Betsy.eat()\n",
    "print(\"{}'s size is: {}\".format(Betsy.get_name(),Betsy.get_size()))\n",
    "Betsy.moo()"
   ]
  },
  {
   "cell_type": "markdown",
   "metadata": {},
   "source": [
    "We can create a whole new class, and have it inherit everything from a parent class. In this case, the Longhorn class will inherit everything from the Cow class, except for the \\_\\_species attribute, which we override."
   ]
  },
  {
   "cell_type": "code",
   "execution_count": 16,
   "metadata": {},
   "outputs": [
    {
     "name": "stdout",
     "output_type": "stream",
     "text": [
      "Doug is a Longhorn!, size 1.\n",
      "Doug can do everything a Cow() can do.\n",
      "Doug says, moo! \n",
      "Doug is eating. And growing.\n",
      "Doug is eating. And growing.\n",
      "Doug says, moo! moo! moo! \n"
     ]
    }
   ],
   "source": [
    "class Longhorn(Cow):\n",
    "    species = \"Longhorn!\"\n",
    "\n",
    "\n",
    "# =====================================================================\n",
    "\n",
    "Doug = Longhorn(\"Doug\")\n",
    "print(\"{} is a {}, size {}.\".format(Doug.get_name(),Doug.get_species(),Doug.get_size()))\n",
    "print(\"{} can do everything a Cow() can do.\".format(Doug.get_name()))\n",
    "Doug.moo()\n",
    "Doug.eat()\n",
    "Doug.eat()\n",
    "Doug.moo()"
   ]
  },
  {
   "cell_type": "markdown",
   "metadata": {},
   "source": [
    "We can Create new attributes or override old/inherited ones."
   ]
  },
  {
   "cell_type": "code",
   "execution_count": 17,
   "metadata": {},
   "outputs": [
    {
     "name": "stdout",
     "output_type": "stream",
     "text": [
      "Doug is a Longhorn!, size 1.\n",
      "\n",
      "\t-- Doug can do everything a Cow() can do.\n",
      "Doug says, moo!\n",
      "Doug is eating. And growing.\n",
      "Doug is eating. And growing.\n",
      "Doug says, moooooooooo!\n",
      "\n",
      "\t-- ...and more...\n",
      "Doug needs to take a nap. Longhorn!'s are lazy!\n"
     ]
    }
   ],
   "source": [
    "class Longhorn(Cow):\n",
    "    \n",
    "    species = \"Longhorn!\"\n",
    "    \n",
    "    def moo(self):\n",
    "        print(\"{} says, mo\".format(self.get_name()) + 'o'*self.get_size()**2+'!')\n",
    "    \n",
    "    def sleep(self):\n",
    "        print(\"{} needs to take a nap. {}'s are lazy!\".format(self.get_name(),self.get_species()))\n",
    "\n",
    "# =====================================================================\n",
    "\n",
    "Doug = Longhorn(\"Doug\")\n",
    "print(\"{} is a {}, size {}.\".format(Doug.get_name(),Doug.species,Doug.get_size()))\n",
    "\n",
    "print()\n",
    "print(\"\\t-- {} can do everything a Cow() can do.\".format(Doug.get_name()))\n",
    "Doug.moo()\n",
    "Doug.eat()\n",
    "Doug.eat()\n",
    "Doug.moo()\n",
    "print()\n",
    "print(\"\\t-- ...and more...\")\n",
    "Doug.sleep()"
   ]
  },
  {
   "cell_type": "code",
   "execution_count": null,
   "metadata": {},
   "outputs": [],
   "source": []
  }
 ],
 "metadata": {
  "kernelspec": {
   "display_name": "Python 3",
   "language": "python",
   "name": "python3"
  },
  "language_info": {
   "codemirror_mode": {
    "name": "ipython",
    "version": 3
   },
   "file_extension": ".py",
   "mimetype": "text/x-python",
   "name": "python",
   "nbconvert_exporter": "python",
   "pygments_lexer": "ipython3",
   "version": "3.6.1"
  }
 },
 "nbformat": 4,
 "nbformat_minor": 2
}
