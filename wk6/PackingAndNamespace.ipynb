{
 "cells": [
  {
   "cell_type": "markdown",
   "metadata": {},
   "source": [
    "# Packing"
   ]
  },
  {
   "cell_type": "code",
   "execution_count": 40,
   "metadata": {
    "collapsed": true,
    "deletable": true,
    "editable": true
   },
   "outputs": [],
   "source": [
    "mytuple = (1,2,3,4)"
   ]
  },
  {
   "cell_type": "markdown",
   "metadata": {},
   "source": [
    "Python will automatically \"pack\" and \"unpack\" variables across the assignment operator (equals sign). Here, mytuple will get unpacked, and each element of the tuple assigned to a,b,c,d."
   ]
  },
  {
   "cell_type": "code",
   "execution_count": 41,
   "metadata": {
    "collapsed": false,
    "deletable": true,
    "editable": true
   },
   "outputs": [
    {
     "name": "stdout",
     "output_type": "stream",
     "text": [
      "1\n",
      "2\n",
      "3\n"
     ]
    }
   ],
   "source": [
    "a,b,c,d = mytuple\n",
    "print(a)\n",
    "print(b)\n",
    "print(c)"
   ]
  },
  {
   "cell_type": "markdown",
   "metadata": {},
   "source": [
    "In this case, the numbers 1,2,3,4 are packed into a tuple, then unpacked and assigned to a,b,c,d."
   ]
  },
  {
   "cell_type": "code",
   "execution_count": 1,
   "metadata": {
    "collapsed": false,
    "deletable": true,
    "editable": true
   },
   "outputs": [
    {
     "name": "stdout",
     "output_type": "stream",
     "text": [
      "1\n",
      "2\n",
      "3\n",
      "4\n"
     ]
    }
   ],
   "source": [
    "a,b,c,d = 1,2,3,4\n",
    "#same as:\n",
    "# a,b,c,d = (1,2,3,4)\n",
    "print(a)\n",
    "print(b)\n",
    "print(c)\n",
    "print(d)"
   ]
  },
  {
   "cell_type": "markdown",
   "metadata": {},
   "source": [
    "Let's create a list of tuples to represent a hand of cards."
   ]
  },
  {
   "cell_type": "code",
   "execution_count": 34,
   "metadata": {
    "collapsed": false,
    "deletable": true,
    "editable": true
   },
   "outputs": [
    {
     "data": {
      "text/plain": [
       "[('A', 'hearts'), ('5', 'Spades'), ('J', 'Diamnods')]"
      ]
     },
     "execution_count": 34,
     "metadata": {},
     "output_type": "execute_result"
    }
   ],
   "source": [
    "hand = [\n",
    "    \n",
    "    ('A','hearts'),('5','Spades'),('J','Diamnods')\n",
    "]\n",
    "hand"
   ]
  },
  {
   "cell_type": "markdown",
   "metadata": {},
   "source": [
    "We can iterate through each element, and use indexing to reference the parts of the tuple."
   ]
  },
  {
   "cell_type": "code",
   "execution_count": 35,
   "metadata": {
    "collapsed": false,
    "deletable": true,
    "editable": true
   },
   "outputs": [
    {
     "name": "stdout",
     "output_type": "stream",
     "text": [
      "I have a Aofhearts\n",
      "I have a 5ofSpades\n",
      "I have a JofDiamnods\n"
     ]
    }
   ],
   "source": [
    "for card in hand:\n",
    "    print(\"I have a \" + card[0] + \"of\" + card[1])"
   ]
  },
  {
   "cell_type": "markdown",
   "metadata": {},
   "source": [
    "Or, we can unpack the tuple, and use two variables to hold the two values. (Keep in mind, the number of elements must match the number of variables when using packing/unpacking.)"
   ]
  },
  {
   "cell_type": "code",
   "execution_count": 36,
   "metadata": {
    "collapsed": false,
    "deletable": true,
    "editable": true
   },
   "outputs": [
    {
     "name": "stdout",
     "output_type": "stream",
     "text": [
      "I have a Aofhearts\n",
      "I have a 5ofSpades\n",
      "I have a JofDiamnods\n"
     ]
    }
   ],
   "source": [
    "for value,suit in hand:\n",
    "    # for every card:\n",
    "    # value,suit = ('5', 'Spades')\n",
    "    print(\"I have a \" + value + \"of\" + suit)"
   ]
  },
  {
   "cell_type": "markdown",
   "metadata": {
    "collapsed": true,
    "deletable": true,
    "editable": true
   },
   "source": [
    "# Namespace"
   ]
  },
  {
   "cell_type": "markdown",
   "metadata": {},
   "source": [
    "We can't use variables that aren't in the local namespace of a function. Here, mydigit is in the global namespace, but not the function's local namespace, so we get an error."
   ]
  },
  {
   "cell_type": "code",
   "execution_count": 43,
   "metadata": {
    "collapsed": false,
    "deletable": true,
    "editable": true
   },
   "outputs": [
    {
     "ename": "UnboundLocalError",
     "evalue": "local variable 'mydigit' referenced before assignment",
     "output_type": "error",
     "traceback": [
      "\u001b[0;31m---------------------------------------------------------------------------\u001b[0m",
      "\u001b[0;31mUnboundLocalError\u001b[0m                         Traceback (most recent call last)",
      "\u001b[0;32m<ipython-input-43-5e02bee488da>\u001b[0m in \u001b[0;36m<module>\u001b[0;34m()\u001b[0m\n\u001b[1;32m      4\u001b[0m \u001b[0;32mdef\u001b[0m \u001b[0mmyfunc\u001b[0m\u001b[0;34m(\u001b[0m\u001b[0;34m)\u001b[0m\u001b[0;34m:\u001b[0m\u001b[0;34m\u001b[0m\u001b[0m\n\u001b[1;32m      5\u001b[0m     \u001b[0mmydigit\u001b[0m \u001b[0;34m+=\u001b[0m\u001b[0;36m1\u001b[0m\u001b[0;34m\u001b[0m\u001b[0m\n\u001b[0;32m----> 6\u001b[0;31m \u001b[0mmyfunc\u001b[0m\u001b[0;34m(\u001b[0m\u001b[0;34m)\u001b[0m\u001b[0;34m\u001b[0m\u001b[0m\n\u001b[0m\u001b[1;32m      7\u001b[0m \u001b[0mprint\u001b[0m\u001b[0;34m(\u001b[0m\u001b[0mmydigit\u001b[0m\u001b[0;34m)\u001b[0m\u001b[0;34m\u001b[0m\u001b[0m\n",
      "\u001b[0;32m<ipython-input-43-5e02bee488da>\u001b[0m in \u001b[0;36mmyfunc\u001b[0;34m()\u001b[0m\n\u001b[1;32m      3\u001b[0m \u001b[0;34m\u001b[0m\u001b[0m\n\u001b[1;32m      4\u001b[0m \u001b[0;32mdef\u001b[0m \u001b[0mmyfunc\u001b[0m\u001b[0;34m(\u001b[0m\u001b[0;34m)\u001b[0m\u001b[0;34m:\u001b[0m\u001b[0;34m\u001b[0m\u001b[0m\n\u001b[0;32m----> 5\u001b[0;31m     \u001b[0mmydigit\u001b[0m \u001b[0;34m+=\u001b[0m\u001b[0;36m1\u001b[0m\u001b[0;34m\u001b[0m\u001b[0m\n\u001b[0m\u001b[1;32m      6\u001b[0m \u001b[0mmyfunc\u001b[0m\u001b[0;34m(\u001b[0m\u001b[0;34m)\u001b[0m\u001b[0;34m\u001b[0m\u001b[0m\n\u001b[1;32m      7\u001b[0m \u001b[0mprint\u001b[0m\u001b[0;34m(\u001b[0m\u001b[0mmydigit\u001b[0m\u001b[0;34m)\u001b[0m\u001b[0;34m\u001b[0m\u001b[0m\n",
      "\u001b[0;31mUnboundLocalError\u001b[0m: local variable 'mydigit' referenced before assignment"
     ]
    }
   ],
   "source": [
    "mylist = [1,2,3]\n",
    "mydigit = 5\n",
    "\n",
    "def myfunc():\n",
    "    mydigit +=1\n",
    "myfunc()\n",
    "print(mydigit)"
   ]
  },
  {
   "cell_type": "markdown",
   "metadata": {},
   "source": [
    "If we want to use the variable, we have to pass it into the function to access it."
   ]
  },
  {
   "cell_type": "code",
   "execution_count": 47,
   "metadata": {
    "collapsed": false,
    "deletable": true,
    "editable": true
   },
   "outputs": [
    {
     "name": "stdout",
     "output_type": "stream",
     "text": [
      "6 inside the function\n",
      "5 outside the function\n"
     ]
    }
   ],
   "source": [
    "mylist = [1,2,3]\n",
    "mydigit = 5\n",
    "\n",
    "def myfunc(somedigit):\n",
    "    somedigit +=1\n",
    "    print(somedigit,\"inside the function\")\n",
    "myfunc(mydigit)\n",
    "print(mydigit, \"outside the function\")"
   ]
  },
  {
   "cell_type": "markdown",
   "metadata": {},
   "source": [
    "And, if we want to save the new value, we have to return it from the function and assign it to a variable."
   ]
  },
  {
   "cell_type": "code",
   "execution_count": 48,
   "metadata": {
    "collapsed": false,
    "deletable": true,
    "editable": true
   },
   "outputs": [
    {
     "name": "stdout",
     "output_type": "stream",
     "text": [
      "6 inside the function\n",
      "6 outside the function\n"
     ]
    }
   ],
   "source": [
    "mylist = [1,2,3]\n",
    "mydigit = 5\n",
    "\n",
    "def myfunc(somedigit):\n",
    "    somedigit +=1\n",
    "    print(somedigit,\"inside the function\")\n",
    "    return somedigit\n",
    "mydigit = myfunc(mydigit)\n",
    "print(mydigit, \"outside the function\")"
   ]
  },
  {
   "cell_type": "markdown",
   "metadata": {},
   "source": [
    "If we use the same variable name inside the function (mydigit), we create a local copy of the variable. This is not the same as the global variable."
   ]
  },
  {
   "cell_type": "code",
   "execution_count": 14,
   "metadata": {
    "collapsed": false,
    "deletable": true,
    "editable": true
   },
   "outputs": [
    {
     "name": "stdout",
     "output_type": "stream",
     "text": [
      "5\n"
     ]
    }
   ],
   "source": [
    "mylist = [1,2,3]\n",
    "mydigit = 5\n",
    "\n",
    "def myfunc():\n",
    "    mydigit = 5\n",
    "    mydigit +=1\n",
    "myfunc()\n",
    "print(mydigit)"
   ]
  },
  {
   "cell_type": "markdown",
   "metadata": {},
   "source": [
    "The 'global' statement tells Python to find the global instance of mydigit, and to bring that into the function's namespace, making mydigit accessible inside the function. \n",
    "\n",
    "(You should NOT use 'global' in production code, or anything you turn in for this class. It's great for testing and examples, but if you need to access a value, you should pass it into your function.)"
   ]
  },
  {
   "cell_type": "code",
   "execution_count": 58,
   "metadata": {
    "collapsed": false,
    "deletable": true,
    "editable": true
   },
   "outputs": [
    {
     "name": "stdout",
     "output_type": "stream",
     "text": [
      "6 inside the function, after the +1\n",
      "6 outside the function\n"
     ]
    }
   ],
   "source": [
    "mylist = [1,2,3]\n",
    "mydigit = 5\n",
    "\n",
    "def myfunc():\n",
    "    global mydigit\n",
    "    mydigit +=1\n",
    "    print(mydigit,\"inside the function, after the +1\")\n",
    "myfunc()\n",
    "print(mydigit, \"outside the function\")"
   ]
  },
  {
   "cell_type": "markdown",
   "metadata": {},
   "source": [
    "Let's look at this with lists.\n",
    "\n",
    "In this case, the values assigned to mylist inside of mycunc() are assigned to a local copy of mylist, not the global copy."
   ]
  },
  {
   "cell_type": "code",
   "execution_count": 50,
   "metadata": {
    "collapsed": false,
    "deletable": true,
    "editable": true
   },
   "outputs": [
    {
     "name": "stdout",
     "output_type": "stream",
     "text": [
      "[1, 2, 3]\n"
     ]
    }
   ],
   "source": [
    "mylist = [1,2,3]\n",
    "\n",
    "def myfunc():\n",
    "    mylist = ['1','b','c']\n",
    "\n",
    "myfunc()\n",
    "print(mylist)"
   ]
  },
  {
   "cell_type": "markdown",
   "metadata": {},
   "source": [
    "The 'global' statment let's us access the global variable'mylist', so this assignment overwrites the old values of mylist."
   ]
  },
  {
   "cell_type": "code",
   "execution_count": 53,
   "metadata": {
    "collapsed": false,
    "deletable": true,
    "editable": true
   },
   "outputs": [
    {
     "name": "stdout",
     "output_type": "stream",
     "text": [
      "['1', 'b', 'c']\n"
     ]
    }
   ],
   "source": [
    "mylist = [1,2,3]\n",
    "\n",
    "def myfunc():\n",
    "    global  mylist\n",
    "    mylist = ['1','b','c']\n",
    "\n",
    "myfunc()\n",
    "print(mylist)"
   ]
  },
  {
   "cell_type": "markdown",
   "metadata": {
    "collapsed": false,
    "deletable": true,
    "editable": true
   },
   "source": [
    "But, lists behave differently than other variable types. In here, we are able to modify mulist by using its .pop() method."
   ]
  },
  {
   "cell_type": "code",
   "execution_count": 2,
   "metadata": {
    "collapsed": false,
    "deletable": true,
    "editable": true
   },
   "outputs": [
    {
     "name": "stdout",
     "output_type": "stream",
     "text": [
      "[1, 2]\n"
     ]
    }
   ],
   "source": [
    "mylist = [1,2,3]\n",
    "mydigit = 5\n",
    "\n",
    "def myfunc():\n",
    "    mylist.pop()\n",
    "myfunc()\n",
    "print(mylist)"
   ]
  },
  {
   "cell_type": "markdown",
   "metadata": {},
   "source": [
    "### More Examples and Questions from Class"
   ]
  },
  {
   "cell_type": "code",
   "execution_count": 61,
   "metadata": {
    "collapsed": false,
    "deletable": true,
    "editable": true
   },
   "outputs": [
    {
     "name": "stdout",
     "output_type": "stream",
     "text": [
      "[1, 2, 3] before function\n",
      "['1', 'b', 'c'] inside of function, after overwriting\n",
      "['1', 'b', 'c'] outside of function\n"
     ]
    }
   ],
   "source": [
    "mylist = [1,2,3]\n",
    "print(mylist, \"before function\")\n",
    "def myfunc():\n",
    "    global mylist\n",
    "    mylist = ['1','b','c']\n",
    "    print(mylist, \"inside of function, after overwriting\")\n",
    "\n",
    "myfunc()\n",
    "print(mylist, \"outside of function\")"
   ]
  },
  {
   "cell_type": "code",
   "execution_count": 62,
   "metadata": {
    "collapsed": false,
    "deletable": true,
    "editable": true
   },
   "outputs": [
    {
     "name": "stdout",
     "output_type": "stream",
     "text": [
      "[1, 2, 3] before function\n",
      "['1', 'b', 'c'] inside of function, after overwriting\n",
      "[1, 2, 3] outside of function\n"
     ]
    }
   ],
   "source": [
    "mylist = [1,2,3]\n",
    "print(mylist, \"before function\")\n",
    "def myfunc():\n",
    "    #global mylist\n",
    "    mylist = ['1','b','c']\n",
    "    print(mylist, \"inside of function, after overwriting\")\n",
    "\n",
    "myfunc()\n",
    "print(mylist, \"outside of function\")"
   ]
  },
  {
   "cell_type": "code",
   "execution_count": null,
   "metadata": {
    "collapsed": false,
    "deletable": true,
    "editable": true
   },
   "outputs": [],
   "source": []
  },
  {
   "cell_type": "code",
   "execution_count": 69,
   "metadata": {
    "collapsed": false,
    "deletable": true,
    "editable": true
   },
   "outputs": [
    {
     "name": "stdout",
     "output_type": "stream",
     "text": [
      "[1, 2]\n"
     ]
    }
   ],
   "source": [
    "mylist = [1,2,3]\n",
    "\n",
    "def myfunc():\n",
    "    mylist.pop()\n",
    "\n",
    "myfunc()\n",
    "print(mylist)"
   ]
  },
  {
   "cell_type": "code",
   "execution_count": 68,
   "metadata": {
    "collapsed": false,
    "deletable": true,
    "editable": true
   },
   "outputs": [
    {
     "name": "stdout",
     "output_type": "stream",
     "text": [
      "[1, 2]\n"
     ]
    }
   ],
   "source": [
    "mylist = [1,2,3]\n",
    "\n",
    "def myfunc():\n",
    "    global mylist\n",
    "    mylist.pop()\n",
    "\n",
    "myfunc()\n",
    "print(mylist)"
   ]
  },
  {
   "cell_type": "code",
   "execution_count": 77,
   "metadata": {
    "collapsed": false,
    "deletable": true,
    "editable": true
   },
   "outputs": [
    {
     "name": "stdout",
     "output_type": "stream",
     "text": [
      "[1, 2, 3] before function\n",
      "[] before function\n",
      "[1, 2] after function\n",
      "[3] after function\n"
     ]
    }
   ],
   "source": [
    "mylist = [1,2,3]\n",
    "discardpile = []\n",
    "def myfunc(listinfunction,discard):\n",
    "    discard.append(listinfunction.pop())\n",
    "\n",
    "print(mylist,\"before function\")\n",
    "print(discardpile,\"before function\")\n",
    "\n",
    "myfunc(mylist,discardpile)\n",
    "print(mylist,\"after function\")\n",
    "print(discardpile,\"after function\")"
   ]
  },
  {
   "cell_type": "markdown",
   "metadata": {
    "collapsed": true,
    "deletable": true,
    "editable": true
   },
   "source": [
    "# EC from 3.2"
   ]
  },
  {
   "cell_type": "code",
   "execution_count": 79,
   "metadata": {
    "collapsed": true,
    "deletable": true,
    "editable": true
   },
   "outputs": [],
   "source": [
    "def countlettersandnumbers(userinput):\n",
    "    \"\"\"\n",
    "    This function will count up the letters and digits in the input string and return the count of each\n",
    "    \"\"\"\n",
    "\n"
   ]
  },
  {
   "cell_type": "code",
   "execution_count": 80,
   "metadata": {
    "collapsed": false,
    "deletable": true,
    "editable": true
   },
   "outputs": [
    {
     "name": "stdout",
     "output_type": "stream",
     "text": [
      "Help on function countlettersandnumbers in module __main__:\n",
      "\n",
      "countlettersandnumbers(userinput)\n",
      "    This function will count up the letters and digits in the input string and return the count of each\n",
      "\n"
     ]
    }
   ],
   "source": [
    "help(countlettersandnumbers)"
   ]
  },
  {
   "cell_type": "code",
   "execution_count": 91,
   "metadata": {
    "collapsed": true,
    "deletable": true,
    "editable": true
   },
   "outputs": [],
   "source": [
    "def countlettersandnumbers(userinput):\n",
    "    \"\"\"\n",
    "    This function will count up the letters and digits in the input string and return the count of each\n",
    "    \"\"\"\n",
    "    numberofletters = 0\n",
    "    numberofnumbers = 0\n",
    "    if type(userinput) is not str:\n",
    "        raise\n",
    "        # manually raise an error\n",
    "    for letter in userinput:\n",
    "        if letter.isalpha():\n",
    "            numberofletters += 1\n",
    "        if letter.isnumeric():\n",
    "            numberofnumbers += 1\n",
    "    \n",
    "    return numberofletters,numberofnumbers\n"
   ]
  },
  {
   "cell_type": "code",
   "execution_count": 111,
   "metadata": {
    "collapsed": false,
    "deletable": true,
    "editable": true
   },
   "outputs": [
    {
     "name": "stdout",
     "output_type": "stream",
     "text": [
      "enter something: asdf123\n",
      "LETTERS: 3\n",
      "NUMBERS: 4\n"
     ]
    }
   ],
   "source": [
    "userentry = input(\"enter something: \")\n",
    "numbers,letters = countlettersandnumbers(userentry)\n",
    "print(\"LETTERS: {}\\nNUMBERS: {}\".format(letters,numbers))"
   ]
  }
 ],
 "metadata": {
  "kernelspec": {
   "display_name": "Python 3",
   "language": "python",
   "name": "python3"
  },
  "language_info": {
   "codemirror_mode": {
    "name": "ipython",
    "version": 3
   },
   "file_extension": ".py",
   "mimetype": "text/x-python",
   "name": "python",
   "nbconvert_exporter": "python",
   "pygments_lexer": "ipython3",
   "version": "3.6.1"
  }
 },
 "nbformat": 4,
 "nbformat_minor": 2
}
