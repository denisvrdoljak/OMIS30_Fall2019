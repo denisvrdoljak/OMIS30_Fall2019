{
 "cells": [
  {
   "cell_type": "markdown",
   "metadata": {},
   "source": [
    "# OMIS30 MidTerm\n",
    "# REVIEW\n",
    "## Fall 2019"
   ]
  },
  {
   "cell_type": "markdown",
   "metadata": {},
   "source": [
    "## 1. Cleaning Errant Whitespaces\n",
    "\n",
    "Run the cell below to define the list of strings, 'baddata.'"
   ]
  },
  {
   "cell_type": "code",
   "execution_count": 1,
   "metadata": {
    "scrolled": true
   },
   "outputs": [],
   "source": [
    "# data taken from data.gov\n",
    "# https://catalog.data.gov/dataset/demographic-statistics-by-zip-code-acfc9\n",
    "# https://data.cityofnewyork.us/api/views/kku6-nxdu/rows.csv?accessType=DOWNLOAD\n",
    "\n",
    "baddata = [\n",
    "\"Zip Code\\tTotal Population\\tMedian Age\\tTotal Males\\tTotal Females\\tTotal Households\\tAverage Household Size\\t\",\n",
    "\"  90001\\t57110\\t26.6\\t28468\\t28642\\t12971\\t4.4 \",\n",
    "\"90002\\t51223\\t25.5\\t24876\\t26347\\t11731\\t4.36\\t\",\n",
    "\"\\t\\t\\t\\t90003\\t66266\\t26.3\\t32631\\t33635\\t15642\\t4.22  \"\n",
    "]"
   ]
  },
  {
   "cell_type": "markdown",
   "metadata": {},
   "source": [
    "Each string contained in baddata contains errant spaces and/or tabs at the beginning or end of the string. Using a FOR loop, remove the errant whitespaces."
   ]
  },
  {
   "cell_type": "code",
   "execution_count": 3,
   "metadata": {},
   "outputs": [
    {
     "data": {
      "text/plain": [
       "['Zip Code\\tTotal Population\\tMedian Age\\tTotal Males\\tTotal Females\\tTotal Households\\tAverage Household Size',\n",
       " '90001\\t57110\\t26.6\\t28468\\t28642\\t12971\\t4.4',\n",
       " '90002\\t51223\\t25.5\\t24876\\t26347\\t11731\\t4.36',\n",
       " '90003\\t66266\\t26.3\\t32631\\t33635\\t15642\\t4.22']"
      ]
     },
     "execution_count": 3,
     "metadata": {},
     "output_type": "execute_result"
    }
   ],
   "source": [
    "## Student Response Goes Here\n",
    "gooddata = []\n",
    "for line in baddata:\n",
    "    gooddata.append(line.strip())\n",
    "gooddata\n",
    "\n",
    "\n",
    "\n",
    "## Student Response Goes Here"
   ]
  },
  {
   "cell_type": "markdown",
   "metadata": {},
   "source": [
    "### 2. Working with TSV data\n",
    "\n",
    "A TSV (Tab Separated Values) is like a CSV, except it uses tabs instead of commas to separate the values in a line. Run the cell below to define the 'data' variable. Manipulate the 'data' variable to answer the following questions. (Do not define a new string or list.)"
   ]
  },
  {
   "cell_type": "code",
   "execution_count": 4,
   "metadata": {},
   "outputs": [],
   "source": [
    "# data taken from data.gov\n",
    "# https://catalog.data.gov/dataset/demographic-statistics-by-zip-code-acfc9\n",
    "# https://data.cityofnewyork.us/api/views/kku6-nxdu/rows.csv?accessType=DOWNLOAD\n",
    "\n",
    "data = \"\"\"\n",
    "Zip Code\\tTotal Population\\tMedian Age\\tTotal Males\\tTotal Females\\tTotal Households\\tAverage Household Size\n",
    "90001\\t57110\\t26.6\\t28468\\t28642\\t12971\\t4.4\n",
    "90002\\t51223\\t25.5\\t24876\\t26347\\t11731\\t4.36\n",
    "90003\\t66266\\t26.3\\t32631\\t33635\\t15642\\t4.22\n",
    "\"\"\".strip()"
   ]
  },
  {
   "cell_type": "markdown",
   "metadata": {},
   "source": [
    "### 2.1 Solving using Indexing\n",
    "\n",
    "Using indexing and slicing, answer the following questions. Do *not* use a loop."
   ]
  },
  {
   "cell_type": "markdown",
   "metadata": {},
   "source": [
    "2.1.1 Create a list of strings that is the column names. e.g.:\n",
    "\n",
    "['Zip Code',\n",
    " 'Total Population',\n",
    " 'Median Age',\n",
    " 'Total Males',\n",
    " 'Total Females',\n",
    " 'Total Households',\n",
    " 'Average Household Size']"
   ]
  },
  {
   "cell_type": "code",
   "execution_count": 7,
   "metadata": {},
   "outputs": [
    {
     "data": {
      "text/plain": [
       "['Zip Code',\n",
       " 'Total Population',\n",
       " 'Median Age',\n",
       " 'Total Males',\n",
       " 'Total Females',\n",
       " 'Total Households',\n",
       " 'Average Household Size']"
      ]
     },
     "execution_count": 7,
     "metadata": {},
     "output_type": "execute_result"
    }
   ],
   "source": [
    "## Student Response Goes Here\n",
    "data.split('\\n')[0].split('\\t')\n",
    "\n",
    "\n",
    "\n",
    "## Student Response Goes Here"
   ]
  },
  {
   "cell_type": "markdown",
   "metadata": {},
   "source": [
    "2.1.2 Convert the data into a list of list of strings."
   ]
  },
  {
   "cell_type": "code",
   "execution_count": 9,
   "metadata": {},
   "outputs": [
    {
     "data": {
      "text/plain": [
       "[['Zip Code',\n",
       "  'Total Population',\n",
       "  'Median Age',\n",
       "  'Total Males',\n",
       "  'Total Females',\n",
       "  'Total Households',\n",
       "  'Average Household Size'],\n",
       " ['90001', '57110', '26.6', '28468', '28642', '12971', '4.4'],\n",
       " ['90002', '51223', '25.5', '24876', '26347', '11731', '4.36'],\n",
       " ['90003', '66266', '26.3', '32631', '33635', '15642', '4.22']]"
      ]
     },
     "execution_count": 9,
     "metadata": {},
     "output_type": "execute_result"
    }
   ],
   "source": [
    "## Student Response Goes Here\n",
    "\n",
    "datarows = data.split('\\n')\n",
    "datarows\n",
    "\n",
    "listoflistofstrings = [\n",
    "    datarows[0].split('\\t'),\n",
    "    datarows[1].split('\\t'),\n",
    "    datarows[2].split('\\t'),\n",
    "    datarows[3].split('\\t')\n",
    "    \n",
    "]\n",
    "\n",
    "listoflistofstrings\n",
    "## Student Response Goes Here"
   ]
  },
  {
   "cell_type": "markdown",
   "metadata": {},
   "source": [
    "2.1.3 Convert the data into a list of list of strings, but exclude the column names from the data."
   ]
  },
  {
   "cell_type": "code",
   "execution_count": 10,
   "metadata": {},
   "outputs": [
    {
     "data": {
      "text/plain": [
       "[['90001', '57110', '26.6', '28468', '28642', '12971', '4.4'],\n",
       " ['90002', '51223', '25.5', '24876', '26347', '11731', '4.36'],\n",
       " ['90003', '66266', '26.3', '32631', '33635', '15642', '4.22']]"
      ]
     },
     "execution_count": 10,
     "metadata": {},
     "output_type": "execute_result"
    }
   ],
   "source": [
    "## Student Response Goes Here\n",
    "\n",
    "datarows = data.split('\\n')\n",
    "datarows\n",
    "\n",
    "listoflistofstrings = [\n",
    "    datarows[1].split('\\t'),\n",
    "    datarows[2].split('\\t'),\n",
    "    datarows[3].split('\\t')\n",
    "    \n",
    "]\n",
    "\n",
    "listoflistofstrings\n",
    "\n",
    "\n",
    "\n",
    "\n",
    "## Student Response Goes Here"
   ]
  },
  {
   "cell_type": "markdown",
   "metadata": {},
   "source": [
    "### 2.2 Solving using FOR Loops\n",
    "\n",
    "Using a FOR loop and slicing, answer the following questions. Do *not* use indexing."
   ]
  },
  {
   "cell_type": "code",
   "execution_count": 11,
   "metadata": {},
   "outputs": [
    {
     "data": {
      "text/plain": [
       "[['Zip Code',\n",
       "  'Total Population',\n",
       "  'Median Age',\n",
       "  'Total Males',\n",
       "  'Total Females',\n",
       "  'Total Households',\n",
       "  'Average Household Size'],\n",
       " ['90001', '57110', '26.6', '28468', '28642', '12971', '4.4'],\n",
       " ['90002', '51223', '25.5', '24876', '26347', '11731', '4.36'],\n",
       " ['90003', '66266', '26.3', '32631', '33635', '15642', '4.22']]"
      ]
     },
     "execution_count": 11,
     "metadata": {},
     "output_type": "execute_result"
    }
   ],
   "source": [
    "dataarray = []\n",
    "for line in data.split('\\n'):\n",
    "    dataarray.append(line.split('\\t'))\n",
    "dataarray"
   ]
  },
  {
   "cell_type": "markdown",
   "metadata": {},
   "source": [
    "2.2.1 Create a list of strings that is the column names. e.g.:\n",
    "\n",
    "['Zip Code',\n",
    " 'Total Population',\n",
    " 'Median Age',\n",
    " 'Total Males',\n",
    " 'Total Females',\n",
    " 'Total Households',\n",
    " 'Average Household Size']"
   ]
  },
  {
   "cell_type": "code",
   "execution_count": 12,
   "metadata": {},
   "outputs": [
    {
     "data": {
      "text/plain": [
       "['Zip Code',\n",
       " 'Total Population',\n",
       " 'Median Age',\n",
       " 'Total Males',\n",
       " 'Total Females',\n",
       " 'Total Households',\n",
       " 'Average Household Size']"
      ]
     },
     "execution_count": 12,
     "metadata": {},
     "output_type": "execute_result"
    }
   ],
   "source": [
    "## Student Response Goes Here\n",
    "\n",
    "dataarray[0]\n",
    "\n",
    "\n",
    "## Student Response Goes Here"
   ]
  },
  {
   "cell_type": "markdown",
   "metadata": {},
   "source": [
    "2.2.2 Convert the data into a list of list of strings."
   ]
  },
  {
   "cell_type": "code",
   "execution_count": 13,
   "metadata": {},
   "outputs": [
    {
     "data": {
      "text/plain": [
       "[['Zip Code',\n",
       "  'Total Population',\n",
       "  'Median Age',\n",
       "  'Total Males',\n",
       "  'Total Females',\n",
       "  'Total Households',\n",
       "  'Average Household Size'],\n",
       " ['90001', '57110', '26.6', '28468', '28642', '12971', '4.4'],\n",
       " ['90002', '51223', '25.5', '24876', '26347', '11731', '4.36'],\n",
       " ['90003', '66266', '26.3', '32631', '33635', '15642', '4.22']]"
      ]
     },
     "execution_count": 13,
     "metadata": {},
     "output_type": "execute_result"
    }
   ],
   "source": [
    "## Student Response Goes Here\n",
    "dataarray\n",
    "\n",
    "\n",
    "\n",
    "## Student Response Goes Here"
   ]
  },
  {
   "cell_type": "markdown",
   "metadata": {},
   "source": [
    "2.2.3 Convert the data into a list of list of strings, but exclude the column names from the data."
   ]
  },
  {
   "cell_type": "code",
   "execution_count": 14,
   "metadata": {},
   "outputs": [
    {
     "data": {
      "text/plain": [
       "[['90001', '57110', '26.6', '28468', '28642', '12971', '4.4'],\n",
       " ['90002', '51223', '25.5', '24876', '26347', '11731', '4.36'],\n",
       " ['90003', '66266', '26.3', '32631', '33635', '15642', '4.22']]"
      ]
     },
     "execution_count": 14,
     "metadata": {},
     "output_type": "execute_result"
    }
   ],
   "source": [
    "## Student Response Goes Here\n",
    "\n",
    "dataarray[1:]\n",
    "\n",
    "\n",
    "## Student Response Goes Here"
   ]
  },
  {
   "cell_type": "markdown",
   "metadata": {},
   "source": [
    "## 3. Cow Greek\n",
    "Similar to Pig Latin, Cow Greek was developed to modify words by moving any leading consonants to the end, and appending 'oo' to the end of the word. For example, \n",
    "Denis becomes enisdoo\n",
    "python becomes ythonpoo\n",
    "answer becomes answeroo (note, there is no leading consonant to move)\n",
    "midterm becomes idtermmoo\n",
    "\n",
    "Write a program that:\n",
    "1. takes a user input\n",
    "2. removes any non-letters\n",
    "3. converts everything to lowercase\n",
    "4. converts the word to Cow Greek\n",
    "5. and, capitalizes the first letter\n",
    "\n",
    "note: assume that ony single words will be entered."
   ]
  },
  {
   "cell_type": "code",
   "execution_count": 11,
   "metadata": {},
   "outputs": [
    {
     "name": "stdout",
     "output_type": "stream",
     "text": [
      "Enter a string to convert to Cow Greek:\n",
      "moo123...\n",
      "oomoo\n"
     ]
    }
   ],
   "source": [
    "## Student Response Goes Here\n",
    "userinput = input(\"Enter a string to convert to Cow Greek:\\n\")\n",
    "    \n",
    "vowels = ['a','e','i','o','u']\n",
    "validletters = 'abcdefghijklmnopqrstuvwxyz'\n",
    "letters = []\n",
    "for letter in userinput:\n",
    "    if letter in validletters:\n",
    "        letters.append(letter.lower())\n",
    "for i,letter in enumerate(letters):\n",
    "    if letter in vowels:\n",
    "        breakpoint = i\n",
    "        break\n",
    "userinput = ''.join(letters)\n",
    "print( userinput[i:] + userinput[:i] + 'oo')\n",
    "\n",
    "## Student Response Goes Here"
   ]
  },
  {
   "cell_type": "markdown",
   "metadata": {},
   "source": [
    "## 4. Fibonacci Squared\n",
    "Write a program that takes in a user input, 'n', (assume a valid integer is entered), and calulates the square of the n-th Fibonacci number."
   ]
  },
  {
   "cell_type": "code",
   "execution_count": 1,
   "metadata": {},
   "outputs": [
    {
     "name": "stdout",
     "output_type": "stream",
     "text": [
      "Which Fibonacci number (squared) would you like? (Make sure you enter a valid int!)\n",
      ": 8\n",
      "You result is:\n",
      "169\n"
     ]
    }
   ],
   "source": [
    "## Student Response Goes Here\n",
    "\n",
    "# code taken from\n",
    "# https://www.geeksforgeeks.org/python-program-for-n-th-fibonacci-number/\n",
    "\n",
    "def Fibonacci(n): \n",
    "    if n<0: \n",
    "        print(\"Incorrect input\") \n",
    "    # First Fibonacci number is 0 \n",
    "    elif n==1: \n",
    "        return 0\n",
    "    # Second Fibonacci number is 1 \n",
    "    elif n==2: \n",
    "        return 1\n",
    "    else: \n",
    "        return Fibonacci(n-1)+Fibonacci(n-2) \n",
    "\n",
    "userinput = input(\"Which Fibonacci number (squared) would you like? (Make sure you enter a valid int!)\\n: \")\n",
    "\n",
    "answer = Fibonacci(int(userinput))**2\n",
    "print(\"You result is:\\n{}\".format(answer))\n",
    "    \n",
    "## Student Response Goes Here"
   ]
  },
  {
   "cell_type": "markdown",
   "metadata": {},
   "source": [
    "## 5. Working with Dictionaries, and Food\n",
    "Write a program that takes in a user input (the user specifies the meal they would like to make), and returns a numbered list of ingredients. Extract the list of ingredients from the dictionary 'ingredients' defined below.\n",
    "\n",
    "For example, if the user enters 'pizza', the program should print:\n",
    "1. dough\n",
    "2. marinara sauce\n",
    "3. cheese\n",
    "4. pepperoni"
   ]
  },
  {
   "cell_type": "code",
   "execution_count": 33,
   "metadata": {},
   "outputs": [],
   "source": [
    "ingredients = {\n",
    "    'pizza':['dough','marinara sauce','cheese','pepperoni'],\n",
    "    'lasagna':['pasta','marinara sauce','cheese','ground beef'],\n",
    "    'alfredo gnocci':['alfredo sauce','gnocci','chicken','broccoli']\n",
    "    \n",
    "}"
   ]
  },
  {
   "cell_type": "code",
   "execution_count": 39,
   "metadata": {},
   "outputs": [
    {
     "name": "stdout",
     "output_type": "stream",
     "text": [
      "Select a recipepizza\n",
      "The required ingredients are:\n",
      "1. pizza\n",
      "2. lasagna\n",
      "3. alfredo gnocci\n",
      "\n"
     ]
    }
   ],
   "source": [
    "## Student Response Goes Here\n",
    "\n",
    "userinput = input(\"Select a recipe\")\n",
    "if userinput not in ingredients.keys():\n",
    "    print(\"invalid input\")\n",
    "else:\n",
    "    \n",
    "    result = ''\n",
    "    for i,ingredient in enumerate(ingredients):\n",
    "        result += '{}. {}'.format(i+1,ingredient) + '\\n'\n",
    "    \n",
    "    print(\"The required ingredients are:\\n{}\".format(result))\n",
    "\n",
    "\n",
    "## Student Response Goes Here"
   ]
  },
  {
   "cell_type": "markdown",
   "metadata": {},
   "source": [
    "## BONUS PROBLEM\n",
    "Redo problem 3 (Cow Greek) using a function, where the function takes in a string as an arguent, and returns the string (assume it is a single word) translated into Cow Greek. Now, use this function to write a script that can translate an entire sentence (words separated by whitespaces) into Cow Greek."
   ]
  },
  {
   "cell_type": "code",
   "execution_count": 12,
   "metadata": {},
   "outputs": [
    {
     "name": "stdout",
     "output_type": "stream",
     "text": [
      "Enter a string to convert to Cow Greek:\n",
      "moo1234...\n",
      "oomoo\n"
     ]
    }
   ],
   "source": [
    "### BONUS PROBLEM\n",
    "## Student Response Goes Here\n",
    "def cowgreek(userinput):\n",
    "    \n",
    "    vowels = ['a','e','i','o','u']\n",
    "    validletters = 'abcdefghijklmnopqrstuvwxyz'\n",
    "    letters = []\n",
    "    for letter in userinput:\n",
    "        if letter in validletters:\n",
    "            letters.append(letter.lower())\n",
    "    for i,letter in enumerate(letters):\n",
    "        if letter in vowels:\n",
    "            breakpoint = i\n",
    "            break\n",
    "    userinput = ''.join(letters)\n",
    "    print( userinput[i:] + userinput[:i] + 'oo')\n",
    "\n",
    "userinput = input(\"Enter a string to convert to Cow Greek:\\n\")\n",
    "cowgreek(userinput)\n",
    "\n",
    "## Student Response Goes Here### BONUS PROBLEM"
   ]
  },
  {
   "cell_type": "markdown",
   "metadata": {},
   "source": [
    "## What to Submit\n",
    "Submit this Jupyter Notebook, with your answers, to Camino. Make sure you are submitting the correct format (.ipynb)!"
   ]
  }
 ],
 "metadata": {
  "kernelspec": {
   "display_name": "Python 3",
   "language": "python",
   "name": "python3"
  },
  "language_info": {
   "codemirror_mode": {
    "name": "ipython",
    "version": 3
   },
   "file_extension": ".py",
   "mimetype": "text/x-python",
   "name": "python",
   "nbconvert_exporter": "python",
   "pygments_lexer": "ipython3",
   "version": "3.7.1"
  }
 },
 "nbformat": 4,
 "nbformat_minor": 2
}
