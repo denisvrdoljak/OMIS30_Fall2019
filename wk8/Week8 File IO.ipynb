{
 "cells": [
  {
   "cell_type": "code",
   "execution_count": 25,
   "metadata": {},
   "outputs": [
    {
     "name": "stdout",
     "output_type": "stream",
     "text": [
      "Overwriting group.csv\n"
     ]
    }
   ],
   "source": [
    "%%writefile group.csv\n",
    "Index,State,Amount\n",
    "0,CA,100\n",
    "1,CA,205\n",
    "2,CO,367\n",
    "3,NY,365\n",
    "4,GA,525\n",
    "5,CA,150\n",
    "6,CO,342"
   ]
  },
  {
   "cell_type": "code",
   "execution_count": 2,
   "metadata": {},
   "outputs": [],
   "source": [
    "myfile = open(\"group.csv\")"
   ]
  },
  {
   "cell_type": "code",
   "execution_count": 3,
   "metadata": {},
   "outputs": [
    {
     "data": {
      "text/plain": [
       "['Index,State,Amount\\n',\n",
       " '0,CA,100\\n',\n",
       " '1,CA,205\\n',\n",
       " '2,CO,367\\n',\n",
       " '3,NY,365\\n',\n",
       " '4,GA,525\\n',\n",
       " '5,CA,150\\n',\n",
       " '6,CO,342\\n']"
      ]
     },
     "execution_count": 3,
     "metadata": {},
     "output_type": "execute_result"
    }
   ],
   "source": [
    "filedata = myfile.readlines()\n",
    "filedata"
   ]
  },
  {
   "cell_type": "code",
   "execution_count": 5,
   "metadata": {},
   "outputs": [
    {
     "name": "stdout",
     "output_type": "stream",
     "text": [
      "Index,State,Amount\n",
      "\n",
      "0,CA,100\n",
      "\n",
      "1,CA,205\n",
      "\n",
      "2,CO,367\n",
      "\n",
      "3,NY,365\n",
      "\n",
      "4,GA,525\n",
      "\n",
      "5,CA,150\n",
      "\n",
      "6,CO,342\n",
      "\n"
     ]
    }
   ],
   "source": [
    "for line in filedata:\n",
    "    print(line)"
   ]
  },
  {
   "cell_type": "code",
   "execution_count": 6,
   "metadata": {},
   "outputs": [
    {
     "name": "stdout",
     "output_type": "stream",
     "text": [
      "Index,State,Amount\n",
      "0,CA,100\n",
      "1,CA,205\n",
      "2,CO,367\n",
      "3,NY,365\n",
      "4,GA,525\n",
      "5,CA,150\n",
      "6,CO,342\n"
     ]
    }
   ],
   "source": [
    "for line in filedata:\n",
    "    print(line,end='')"
   ]
  },
  {
   "cell_type": "code",
   "execution_count": 7,
   "metadata": {},
   "outputs": [
    {
     "name": "stdout",
     "output_type": "stream",
     "text": [
      "Index,State,Amount\n",
      "0,CA,100\n",
      "1,CA,205\n",
      "2,CO,367\n",
      "3,NY,365\n",
      "4,GA,525\n",
      "5,CA,150\n",
      "6,CO,342\n"
     ]
    }
   ],
   "source": [
    "for line in filedata:\n",
    "    print(line.strip())"
   ]
  },
  {
   "cell_type": "code",
   "execution_count": 8,
   "metadata": {},
   "outputs": [],
   "source": [
    "myfile.close()"
   ]
  },
  {
   "cell_type": "code",
   "execution_count": null,
   "metadata": {},
   "outputs": [],
   "source": []
  },
  {
   "cell_type": "code",
   "execution_count": 9,
   "metadata": {},
   "outputs": [
    {
     "name": "stdout",
     "output_type": "stream",
     "text": [
      "<_io.TextIOWrapper name='group.csv' mode='r' encoding='UTF-8'>\n"
     ]
    }
   ],
   "source": [
    "myfile = open(\"group.csv\")\n",
    "print(myfile)\n",
    "myfile.close()"
   ]
  },
  {
   "cell_type": "code",
   "execution_count": 10,
   "metadata": {},
   "outputs": [
    {
     "name": "stdout",
     "output_type": "stream",
     "text": [
      "Index,State,Amount\n",
      "0,CA,100\n",
      "1,CA,205\n",
      "2,CO,367\n",
      "3,NY,365\n",
      "4,GA,525\n",
      "5,CA,150\n",
      "6,CO,342\n"
     ]
    }
   ],
   "source": [
    "myfile = open(\"group.csv\")\n",
    "for line in myfile:\n",
    "    print(line.strip())\n",
    "myfile.close()"
   ]
  },
  {
   "cell_type": "code",
   "execution_count": 18,
   "metadata": {},
   "outputs": [],
   "source": [
    "with open(\"group.csv\") as myfile:\n",
    "    for line in myfile:\n",
    "        print(line.strip())\n"
   ]
  },
  {
   "cell_type": "markdown",
   "metadata": {},
   "source": [
    "## Class Exercise\n",
    "Take the below code, and modify to write to a new file called group2.csv"
   ]
  },
  {
   "cell_type": "code",
   "execution_count": 13,
   "metadata": {
    "scrolled": true
   },
   "outputs": [
    {
     "data": {
      "text/plain": [
       "['Index,State,Amount\\n',\n",
       " '0,CA,100\\n',\n",
       " '1,CA,205\\n',\n",
       " '2,CO,367\\n',\n",
       " '3,NY,365\\n',\n",
       " '4,GA,525\\n',\n",
       " '5,CA,150\\n',\n",
       " '6,CO,342\\n']"
      ]
     },
     "execution_count": 13,
     "metadata": {},
     "output_type": "execute_result"
    }
   ],
   "source": [
    "with open(\"group.csv\") as myfile:\n",
    "    data = myfile.readlines()\n",
    "data\n",
    "\n",
    "#now, write this to a new file called goup2.csv"
   ]
  },
  {
   "cell_type": "markdown",
   "metadata": {},
   "source": [
    "## Answer:\n"
   ]
  },
  {
   "cell_type": "code",
   "execution_count": 26,
   "metadata": {},
   "outputs": [],
   "source": [
    "with open(\"group.csv\") as myfile:\n",
    "    data = myfile.readlines()\n",
    "\n",
    "with open(\"newgroup1.csv\",'wt') as mynewfile:\n",
    "    mynewfile.writelines(data)"
   ]
  },
  {
   "cell_type": "code",
   "execution_count": 27,
   "metadata": {},
   "outputs": [
    {
     "ename": "TypeError",
     "evalue": "a bytes-like object is required, not 'str'",
     "output_type": "error",
     "traceback": [
      "\u001b[0;31m---------------------------------------------------------------------------\u001b[0m",
      "\u001b[0;31mTypeError\u001b[0m                                 Traceback (most recent call last)",
      "\u001b[0;32m<ipython-input-27-07a8a60cbc36>\u001b[0m in \u001b[0;36m<module>\u001b[0;34m\u001b[0m\n\u001b[1;32m      3\u001b[0m \u001b[0;34m\u001b[0m\u001b[0m\n\u001b[1;32m      4\u001b[0m \u001b[0;32mwith\u001b[0m \u001b[0mopen\u001b[0m\u001b[0;34m(\u001b[0m\u001b[0;34m\"newgroupBINARY.csv\"\u001b[0m\u001b[0;34m,\u001b[0m\u001b[0;34m'wb'\u001b[0m\u001b[0;34m)\u001b[0m \u001b[0;32mas\u001b[0m \u001b[0mmynewfile\u001b[0m\u001b[0;34m:\u001b[0m\u001b[0;34m\u001b[0m\u001b[0;34m\u001b[0m\u001b[0m\n\u001b[0;32m----> 5\u001b[0;31m     \u001b[0mmynewfile\u001b[0m\u001b[0;34m.\u001b[0m\u001b[0mwritelines\u001b[0m\u001b[0;34m(\u001b[0m\u001b[0mdata\u001b[0m\u001b[0;34m)\u001b[0m\u001b[0;34m\u001b[0m\u001b[0;34m\u001b[0m\u001b[0m\n\u001b[0m",
      "\u001b[0;31mTypeError\u001b[0m: a bytes-like object is required, not 'str'"
     ]
    }
   ],
   "source": [
    "with open(\"group.csv\") as myfile:\n",
    "    data = myfile.readlines()\n",
    "\n",
    "with open(\"newgroupBINARY.csv\",'wb') as mynewfile:\n",
    "    mynewfile.writelines(data)"
   ]
  },
  {
   "cell_type": "code",
   "execution_count": 30,
   "metadata": {},
   "outputs": [],
   "source": [
    "with open(\"group.csv\") as myfile:\n",
    "    data = myfile.readlines()\n",
    "data\n",
    "\n",
    "with open(\"newgroup2.csv\",'wt') as mynewfile:\n",
    "    for line in data:\n",
    "        mynewfile.write(line)"
   ]
  },
  {
   "cell_type": "code",
   "execution_count": 39,
   "metadata": {},
   "outputs": [],
   "source": [
    "with open(\"group.csv\") as myfile:\n",
    "    data = myfile.readlines()\n",
    "data\n",
    "\n",
    "with open(\"newgroup3.csv.txt\",'wt') as mynewfile:\n",
    "    for line in data:\n",
    "        print(line.strip(),file=mynewfile)"
   ]
  },
  {
   "cell_type": "code",
   "execution_count": 40,
   "metadata": {},
   "outputs": [],
   "source": [
    "with open(\"group.csv\") as myfile:\n",
    "    data = myfile.readlines()\n",
    "data\n",
    "\n",
    "with open(\"newgroup4.csv.txt\",'wt') as mynewfile:\n",
    "    for line in data:\n",
    "        mynewfile.write(line.strip())"
   ]
  },
  {
   "cell_type": "code",
   "execution_count": 50,
   "metadata": {},
   "outputs": [],
   "source": [
    "        with open(\"newgroup6.csv\",'wt') as mynewfile:\n",
    "        pass\n",
    "\n",
    "with open(\"group.csv\") as myfile:\n",
    "    for line in myfile:\n",
    "        with open(\"newgroup6.csv\",'at') as mynewfile:\n",
    "            mynewfile.write(line)"
   ]
  },
  {
   "cell_type": "code",
   "execution_count": null,
   "metadata": {},
   "outputs": [],
   "source": []
  }
 ],
 "metadata": {
  "kernelspec": {
   "display_name": "Python 3",
   "language": "python",
   "name": "python3"
  },
  "language_info": {
   "codemirror_mode": {
    "name": "ipython",
    "version": 3
   },
   "file_extension": ".py",
   "mimetype": "text/x-python",
   "name": "python",
   "nbconvert_exporter": "python",
   "pygments_lexer": "ipython3",
   "version": "3.7.1"
  }
 },
 "nbformat": 4,
 "nbformat_minor": 2
}
